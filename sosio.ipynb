{
 "cells": [
  {
   "cell_type": "code",
   "execution_count": null,
   "metadata": {},
   "outputs": [],
   "source": [
    "class expenses():\n",
    "    #total_budget=4000\n",
    "    #print('enter your total budget:'),total_budget\n",
    "    def main(self,total_budget):\n",
    "        self.total_budget=total_budget\n",
    "        \n",
    "        print 'tracking of monthly expenses in different category'\n",
    "        #category=[1:\"add an expense\" 2:\"remove an expense\" 3:\"exit\"]\n",
    "        \n",
    "    def addExpense(self,total_budget):\n",
    "        self.total_budget=total_budget\n",
    "        expense=int(raw_input('enter expense regarding household:'))\n",
    "        monthly=input('how many times per month:')\n",
    "        total_expense=expense*monthly\n",
    "        total_budget=total_budget-total_expense\n",
    "        if total_expense>=total_budget:\n",
    "            print('the response is rejected as total_expense is greater than total_budget')\n",
    "        else:\n",
    "            print('remaining budget is:'),total_budget\n",
    "        #return total_budget\n",
    "        expense1=int(raw_input('enter expense regarding current_bill:'))\n",
    "        monthly=input('how many times per month:')\n",
    "        total_expense=expense1*monthly\n",
    "        total_budget=total_budget-total_expense\n",
    "        if total_expense>=total_budget:\n",
    "            print('the response is rejected as total_expense is greater than total_budget')\n",
    "        else:\n",
    "            print('remaining budget is:'),total_budget\n",
    "        return total_budget\n",
    "class expenses1(expenses):\n",
    "    def removeExpense(self,total_budget):\n",
    "        self.total_budget=total_budget\n",
    "        expense=int(raw_input('enter the expense you want to remove for household or enter zero:'))\n",
    "        total_expense=expense\n",
    "        total_budget=total_budget+total_expense\n",
    "        \"\"\"if total_expense>=total_budget:\n",
    "            print('the response is rejected as total_expense is greater than total_budget')\n",
    "        else:\"\"\"\n",
    "        print('remaining budget is:'),total_budget\n",
    "        expense=int(raw_input('enter the expense you want to remove for current_bill or enter zero:'))\n",
    "        total_expense=expense\n",
    "        total_budget=total_budget+total_expense\n",
    "        \"\"\"if total_expense>=total_budget:\n",
    "            print('the response is rejected as total_expense is greater than total_budget')\n",
    "        else:\"\"\"\n",
    "        print('remaining budget is:'),total_budget\n",
    "        return total_budget\n",
    "o=expenses1()\n",
    "#a=o.main(4000)\n",
    "total_budget=int(raw_input('enter your initial income'))\n",
    "a=o.addExpense(4000)\n",
    "total_budget=int(raw_input('enter the budget after spending all the expenses'))\n",
    "a=o.removeExpense(total_budget)\n",
    "\n",
    "\n",
    "\n",
    "\n"
   ]
  },
  {
   "cell_type": "code",
   "execution_count": null,
   "metadata": {},
   "outputs": [],
   "source": []
  }
 ],
 "metadata": {
  "kernelspec": {
   "display_name": "Python 2",
   "language": "python",
   "name": "python2"
  },
  "language_info": {
   "codemirror_mode": {
    "name": "ipython",
    "version": 2
   },
   "file_extension": ".py",
   "mimetype": "text/x-python",
   "name": "python",
   "nbconvert_exporter": "python",
   "pygments_lexer": "ipython2",
   "version": "2.7.14"
  }
 },
 "nbformat": 4,
 "nbformat_minor": 2
}
